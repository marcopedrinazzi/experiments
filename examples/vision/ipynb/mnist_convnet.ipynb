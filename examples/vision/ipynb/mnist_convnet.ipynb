{
  "cells": [
    {
      "cell_type": "markdown",
      "metadata": {
        "id": "view-in-github",
        "colab_type": "text"
      },
      "source": [
        "<a href=\"https://colab.research.google.com/github/marcopedrinazzi/experiments/blob/main/examples/vision/ipynb/mnist_convnet.ipynb\" target=\"_parent\"><img src=\"https://colab.research.google.com/assets/colab-badge.svg\" alt=\"Open In Colab\"/></a>"
      ]
    },
    {
      "cell_type": "markdown",
      "metadata": {
        "id": "oGOggN1U43MG"
      },
      "source": [
        "# Simple MNIST convnet\n",
        "\n",
        "**Author:** [fchollet](https://twitter.com/fchollet)<br>\n",
        "**Date created:** 2015/06/19<br>\n",
        "**Last modified:** 2020/04/21<br>\n",
        "**Description:** A simple convnet that achieves ~99% test accuracy on MNIST."
      ]
    },
    {
      "cell_type": "markdown",
      "metadata": {
        "id": "BKOHsGNE43MN"
      },
      "source": [
        "## Setup"
      ]
    },
    {
      "cell_type": "code",
      "execution_count": 1,
      "metadata": {
        "id": "uQdniBSh43MO"
      },
      "outputs": [],
      "source": [
        "import numpy as np\n",
        "from tensorflow import keras\n",
        "from tensorflow.keras import layers\n",
        "import matplotlib.pyplot as plt"
      ]
    },
    {
      "cell_type": "markdown",
      "metadata": {
        "id": "xJJF-EW343MR"
      },
      "source": [
        "## Prepare the data"
      ]
    },
    {
      "cell_type": "code",
      "execution_count": 2,
      "metadata": {
        "id": "TUAE_zJb43MR",
        "outputId": "8316bd74-4ed4-41e1-dd24-d90963f85a57",
        "colab": {
          "base_uri": "https://localhost:8080/"
        }
      },
      "outputs": [
        {
          "output_type": "stream",
          "name": "stdout",
          "text": [
            "x_train shape: (60000, 28, 28, 1)\n",
            "x_test shape: (10000, 28, 28, 1)\n",
            "60000 train samples\n",
            "10000 test samples\n"
          ]
        }
      ],
      "source": [
        "# Model / data parameters\n",
        "num_classes = 10 #da 0 a 9\n",
        "input_shape = (28, 28, 1) #(Width, Height, Channels) 1 per grigio 3 per RGB\n",
        "\n",
        "# the data, split between train and test sets\n",
        "(x_train, y_train), (x_test, y_test) = keras.datasets.mnist.load_data()\n",
        "#So the x_train data is the \"features.\" In this case, the features are pixel \n",
        "#values of the 28x28 images of these digits 0-9. \n",
        "#The y_train is the label (is it a 0,1,2,3,4,5,6,7,8 or a 9?)\n",
        "#The testing variants of these variables is the \"out of sample\" examples that \n",
        "#we will use. These are examples from our data that we're going to set aside, \n",
        "#reserving them for testing the model.\n",
        "\n",
        "# Scale images to the [0, 1] range\n",
        "x_train = x_train.astype(\"float32\") / 255\n",
        "x_test = x_test.astype(\"float32\") / 255\n",
        "# Make sure images have shape (28, 28, 1)\n",
        "x_train = np.expand_dims(x_train, -1)\n",
        "x_test = np.expand_dims(x_test, -1)\n",
        "print(\"x_train shape:\", x_train.shape)\n",
        "print(\"x_test shape:\", x_test.shape)\n",
        "print(x_train.shape[0], \"train samples\")\n",
        "print(x_test.shape[0], \"test samples\")\n",
        "\n",
        "\n",
        "# convert class vectors to binary class matrices\n",
        "y_train = keras.utils.to_categorical(y_train, num_classes)\n",
        "y_test = keras.utils.to_categorical(y_test, num_classes)"
      ]
    },
    {
      "cell_type": "markdown",
      "metadata": {
        "id": "XbREWZ_o43MT"
      },
      "source": [
        "## Build the model"
      ]
    },
    {
      "cell_type": "code",
      "execution_count": 3,
      "metadata": {
        "id": "c18e9pgF43MU",
        "outputId": "f73c80d6-dded-426b-99b8-1847bdcc3faf",
        "colab": {
          "base_uri": "https://localhost:8080/"
        }
      },
      "outputs": [
        {
          "output_type": "stream",
          "name": "stdout",
          "text": [
            "Model: \"sequential\"\n",
            "_________________________________________________________________\n",
            " Layer (type)                Output Shape              Param #   \n",
            "=================================================================\n",
            " conv2d (Conv2D)             (None, 26, 26, 32)        320       \n",
            "                                                                 \n",
            " max_pooling2d (MaxPooling2D  (None, 13, 13, 32)       0         \n",
            " )                                                               \n",
            "                                                                 \n",
            " conv2d_1 (Conv2D)           (None, 11, 11, 64)        18496     \n",
            "                                                                 \n",
            " max_pooling2d_1 (MaxPooling  (None, 5, 5, 64)         0         \n",
            " 2D)                                                             \n",
            "                                                                 \n",
            " flatten (Flatten)           (None, 1600)              0         \n",
            "                                                                 \n",
            " dropout (Dropout)           (None, 1600)              0         \n",
            "                                                                 \n",
            " dense (Dense)               (None, 10)                16010     \n",
            "                                                                 \n",
            "=================================================================\n",
            "Total params: 34,826\n",
            "Trainable params: 34,826\n",
            "Non-trainable params: 0\n",
            "_________________________________________________________________\n"
          ]
        }
      ],
      "source": [
        "model = keras.Sequential(\n",
        "    [\n",
        "        keras.Input(shape=input_shape),\n",
        "        layers.Conv2D(32, kernel_size=(3, 3), activation=\"relu\"),\n",
        "        layers.MaxPooling2D(pool_size=(2, 2)),\n",
        "        layers.Conv2D(64, kernel_size=(3, 3), activation=\"relu\"),\n",
        "        layers.MaxPooling2D(pool_size=(2, 2)),\n",
        "        layers.Flatten(),\n",
        "        layers.Dropout(0.5),\n",
        "        layers.Dense(num_classes, activation=\"softmax\"), #num_classes è il\n",
        "        #\n",
        "    ]\n",
        ")\n",
        "\n",
        "#A sequential model is what you're going to use most of the time. It just means \n",
        "#things are going to go in direct order. A feed forward model. \n",
        "\n",
        "#layers.Conv2D(32,....)\n",
        "#Fa la convoluzione 32 è il numero di filtri\n",
        "#L'output sarà dopo la prima convoluzione di 26x26 (muovo il kernel 3x3 per \n",
        "#tutta l'immagine)\n",
        "\n",
        "#layers.MaxPooling2D(pool_size=(2, 2)),\n",
        "#Fa il Max pooling e l'ouput della immagine sarà 13x13 perchè setto nella \n",
        "#immagine da 26x26 in pool da 2x2\n",
        "\n",
        "#For this you need to understand what filters actually do.\n",
        "\n",
        "#Nella nuova convoluzione aumento i filtri perchè:\n",
        "#Every layer of filters is there to capture patterns. For example, the first \n",
        "#layer of filters captures patterns like edges, corners, dots etc. Subsequent \n",
        "#layers combine those patterns to make bigger patterns \n",
        "#(like combining edges to make squares, circles, etc.).\n",
        "#Now as we move forward in the layers, the patterns get more complex; \n",
        "#hence there are larger combinations of patterns to capture. \n",
        "#That's why we increase the filter size in subsequent layers to capture as many \n",
        "#combinations as possible.\n",
        "\n",
        "# layers.Flatten(),\n",
        "# Fa il flattening\n",
        "\n",
        "# layers.Dropout(0.5),\n",
        "#Applies Dropout to the input.\n",
        "#The Dropout layer randomly sets input units to 0 with a frequency of rate \n",
        "#at each step during training time, which helps prevent overfitting. \n",
        "#Inputs not set to 0 are scaled up by 1/(1 - rate) such that the sum over all \n",
        "#inputs is unchanged.\n",
        "\n",
        "#layers.Dense(num_classes, activation=\"softmax\"),\n",
        "#E' il layer fully connected che serve per la classificazione finale\n",
        "\n",
        "#https://towardsdatascience.com/convolution-neural-network-for-image-processing-using-keras-dc3429056306\n",
        "\n",
        "model.summary()"
      ]
    },
    {
      "cell_type": "markdown",
      "metadata": {
        "id": "mxkN80Tr43MV"
      },
      "source": [
        "## Train the model"
      ]
    },
    {
      "cell_type": "code",
      "execution_count": 4,
      "metadata": {
        "id": "uUmXCTTC43MV",
        "outputId": "5303df4f-b2ca-4002-c8bc-6effdf397a9e",
        "colab": {
          "base_uri": "https://localhost:8080/"
        }
      },
      "outputs": [
        {
          "output_type": "stream",
          "name": "stdout",
          "text": [
            "Epoch 1/15\n",
            "422/422 [==============================] - 46s 108ms/step - loss: 0.3732 - accuracy: 0.8887 - val_loss: 0.0830 - val_accuracy: 0.9792\n",
            "Epoch 2/15\n",
            "422/422 [==============================] - 41s 98ms/step - loss: 0.1167 - accuracy: 0.9646 - val_loss: 0.0608 - val_accuracy: 0.9850\n",
            "Epoch 3/15\n",
            "422/422 [==============================] - 41s 97ms/step - loss: 0.0891 - accuracy: 0.9723 - val_loss: 0.0507 - val_accuracy: 0.9883\n",
            "Epoch 4/15\n",
            "422/422 [==============================] - 41s 97ms/step - loss: 0.0736 - accuracy: 0.9774 - val_loss: 0.0418 - val_accuracy: 0.9885\n",
            "Epoch 5/15\n",
            "422/422 [==============================] - 41s 97ms/step - loss: 0.0649 - accuracy: 0.9805 - val_loss: 0.0404 - val_accuracy: 0.9887\n",
            "Epoch 6/15\n",
            "422/422 [==============================] - 40s 96ms/step - loss: 0.0589 - accuracy: 0.9815 - val_loss: 0.0408 - val_accuracy: 0.9893\n",
            "Epoch 7/15\n",
            "422/422 [==============================] - 40s 96ms/step - loss: 0.0539 - accuracy: 0.9833 - val_loss: 0.0374 - val_accuracy: 0.9902\n",
            "Epoch 8/15\n",
            "422/422 [==============================] - 41s 96ms/step - loss: 0.0491 - accuracy: 0.9848 - val_loss: 0.0344 - val_accuracy: 0.9902\n",
            "Epoch 9/15\n",
            "422/422 [==============================] - 41s 97ms/step - loss: 0.0461 - accuracy: 0.9857 - val_loss: 0.0357 - val_accuracy: 0.9903\n",
            "Epoch 10/15\n",
            "422/422 [==============================] - 42s 100ms/step - loss: 0.0438 - accuracy: 0.9862 - val_loss: 0.0310 - val_accuracy: 0.9927\n",
            "Epoch 11/15\n",
            "422/422 [==============================] - 42s 99ms/step - loss: 0.0422 - accuracy: 0.9865 - val_loss: 0.0337 - val_accuracy: 0.9910\n",
            "Epoch 12/15\n",
            "422/422 [==============================] - 41s 98ms/step - loss: 0.0394 - accuracy: 0.9875 - val_loss: 0.0312 - val_accuracy: 0.9920\n",
            "Epoch 13/15\n",
            "422/422 [==============================] - 41s 98ms/step - loss: 0.0365 - accuracy: 0.9880 - val_loss: 0.0300 - val_accuracy: 0.9920\n",
            "Epoch 14/15\n",
            "422/422 [==============================] - 45s 106ms/step - loss: 0.0354 - accuracy: 0.9883 - val_loss: 0.0313 - val_accuracy: 0.9912\n",
            "Epoch 15/15\n",
            "422/422 [==============================] - 42s 99ms/step - loss: 0.0340 - accuracy: 0.9891 - val_loss: 0.0283 - val_accuracy: 0.9923\n"
          ]
        },
        {
          "output_type": "execute_result",
          "data": {
            "text/plain": [
              "<keras.callbacks.History at 0x7fbb46b0aed0>"
            ]
          },
          "metadata": {},
          "execution_count": 4
        }
      ],
      "source": [
        "#FACCIO IL TRAINING FACCIO UNA SEPARAZIONE ULTERIORE NEI TRAINING DATA UTILIZZANDO PARTE DEI TRAINING DATA COME VALIDATION DATA (PARAMETRO VALIDATION_SPLIT)\n",
        "#validation_split says: \"hey give me all the input data – I will take care of splitting between test and validation\".\n",
        "#validation_data says \"please give me explicitly the validation data\"\n",
        "#https://stackoverflow.com/questions/45117295/what-is-the-relation-between-validation-data-and-validation-split-in-keras-fit\n",
        "\n",
        "\n",
        "\n",
        "batch_size = 128\n",
        "#The batch size defines the number of samples that will be propagated through the network.\n",
        "#https://stats.stackexchange.com/questions/153531/what-is-batch-size-in-neural-network\n",
        "#QUI LO SPIEGA BENE\n",
        "epochs = 15\n",
        "\n",
        "#Now we need to \"compile\" the model. This is where we pass the settings for \n",
        "#actually optimizing/training the model we've defined.\n",
        "\n",
        "#Next, we have our loss metric. Loss is a calculation of error. \n",
        "#A neural network doesn't actually attempt to maximize accuracy. \n",
        "#It attempts to minimize loss. Again, there are many choices, but some form of \n",
        "#categorical crossentropy is a good start for a classification task like this.\n",
        "\n",
        "model.compile(loss=\"categorical_crossentropy\", optimizer=\"adam\", metrics=[\"accuracy\"])\n",
        "\n",
        "model.fit(x_train, y_train, batch_size=batch_size, epochs=epochs, validation_split=0.1)\n",
        "\n",
        "#As we train, we can see loss goes down (yay), and accuracy improves quite quickly to 98-99% (double yay!)\n",
        "\n",
        "#batch_size: Integer or None. Number of samples per gradient update. If unspecified, batch_size will default to 32. \n",
        "#Do not specify the batch_size if your data is in the form of datasets, generators, or keras.utils.Sequence instances (since they generate batches).\n",
        "\n",
        "#validation_split: Float between 0 and 1. Fraction of the training data to be used as validation data. \n",
        "#The model will set apart this fraction of the training data, will not train on it, and will evaluate the loss and any model metrics on this data at the end of each epoch. \n",
        "#The validation data is selected from the last samples in the x and y data provided, before shuffling. \n",
        "#This argument is not supported when x is a dataset, generator or keras.utils.Sequence instance. validation_split is not yet supported with"
      ]
    },
    {
      "cell_type": "markdown",
      "metadata": {
        "id": "f5GvrHhI43MW"
      },
      "source": [
        "## Evaluate the trained model"
      ]
    },
    {
      "cell_type": "code",
      "execution_count": 5,
      "metadata": {
        "id": "HWigkB1343MW",
        "outputId": "c6c97602-92c2-4120-c4e4-27e4e25b640e",
        "colab": {
          "base_uri": "https://localhost:8080/"
        }
      },
      "outputs": [
        {
          "output_type": "stream",
          "name": "stdout",
          "text": [
            "Test loss: 0.024355581030249596\n",
            "Test accuracy: 0.991599977016449\n"
          ]
        }
      ],
      "source": [
        "#FACCIO TEST SUI VALORI DEL DATASET CHE NON SONO MAI STATI USATI IN ALLENAMENTO\n",
        "\n",
        "score = model.evaluate(x_test, y_test, verbose=0)\n",
        "print(\"Test loss:\", score[0])\n",
        "print(\"Test accuracy:\", score[1])\n",
        "\n",
        "#Now that's loss and accuracy for in-sample data. Getting a high accuracy and \n",
        "#low loss might mean your model learned how to classify digits in general (it generalized)...or it simply memorized every single example you showed it (it overfit). \n",
        "#This is why we need to test on out-of-sample data (data we didn't use to train the model)."
      ]
    },
    {
      "cell_type": "markdown",
      "source": [
        "## Save model and load it back (in the next section)\n"
      ],
      "metadata": {
        "id": "np_ScLhFAf6E"
      }
    },
    {
      "cell_type": "code",
      "source": [
        "model.save('cnn1.model')"
      ],
      "metadata": {
        "id": "0Ro7jAAzAe6f",
        "outputId": "4d02ac55-ac2c-45fa-83ce-9dbf9afc0b45",
        "colab": {
          "base_uri": "https://localhost:8080/"
        }
      },
      "execution_count": 6,
      "outputs": [
        {
          "output_type": "stream",
          "name": "stdout",
          "text": [
            "INFO:tensorflow:Assets written to: cnn1.model/assets\n"
          ]
        }
      ]
    },
    {
      "cell_type": "markdown",
      "source": [
        "## Make predictions\n"
      ],
      "metadata": {
        "id": "vR8W2-ivARL6"
      }
    },
    {
      "cell_type": "code",
      "source": [
        "new_model = keras.models.load_model('cnn1.model')\n",
        "predictions = new_model.predict(x_test)\n",
        "\n",
        "print(\"Ho previsto questo numero\",np.argmax(predictions[1]))\n",
        "\n",
        "print(\"Il numero inserito era questo\")\n",
        "\n",
        "input_di_test = np.squeeze(x_test[1]) #Remove axes of length one from a. Cosi posso fare il grafico\n",
        "plt.imshow(input_di_test,cmap=plt.cm.binary)\n",
        "plt.show()\n",
        "\n",
        "\n",
        "\n"
      ],
      "metadata": {
        "id": "-O6vbIX2_4SU",
        "outputId": "5a056b4b-90b4-4f56-b032-054c9a75ba04",
        "colab": {
          "base_uri": "https://localhost:8080/",
          "height": 299
        }
      },
      "execution_count": 20,
      "outputs": [
        {
          "output_type": "stream",
          "name": "stdout",
          "text": [
            "Ho previsto questo numero 2\n",
            "Il numero inserito era questo\n"
          ]
        },
        {
          "output_type": "display_data",
          "data": {
            "image/png": "[encoded data removed]",
            "text/plain": [
              "<Figure size 432x288 with 1 Axes>"
            ]
          },
          "metadata": {
            "needs_background": "light"
          }
        }
      ]
    }
  ],
  "metadata": {
    "colab": {
      "collapsed_sections": [],
      "name": "mnist_convnet",
      "provenance": [],
      "toc_visible": true,
      "include_colab_link": true
    },
    "kernelspec": {
      "display_name": "Python 3",
      "language": "python",
      "name": "python3"
    },
    "language_info": {
      "codemirror_mode": {
        "name": "ipython",
        "version": 3
      },
      "file_extension": ".py",
      "mimetype": "text/x-python",
      "name": "python",
      "nbconvert_exporter": "python",
      "pygments_lexer": "ipython3",
      "version": "3.7.0"
    }
  },
  "nbformat": 4,
  "nbformat_minor": 0
}